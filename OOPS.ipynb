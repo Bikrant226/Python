{
 "cells": [
  {
   "cell_type": "code",
   "execution_count": 1,
   "metadata": {},
   "outputs": [
    {
     "name": "stdout",
     "output_type": "stream",
     "text": [
      "Bikrant\n"
     ]
    }
   ],
   "source": [
    "class Employee:\n",
    "    def __init__(self,empId,empName):\n",
    "        self.empId=empId\n",
    "        self.empName=empName\n",
    "    def display(self):\n",
    "        print(self.empName)\n",
    "emp=Employee(24,\"Bikrant\")\n",
    "emp.display()"
   ]
  },
  {
   "cell_type": "code",
   "execution_count": 5,
   "metadata": {},
   "outputs": [
    {
     "name": "stdout",
     "output_type": "stream",
     "text": [
      "78.5\n",
      "31.400000000000002\n"
     ]
    }
   ],
   "source": [
    "#Objects attributes and methods\n",
    "class Circle:\n",
    "    #object attribute\n",
    "    pi=3.14\n",
    "\n",
    "    def __init__(self,radius):\n",
    "        self.radius=radius\n",
    "    def getArea(self):\n",
    "        return self.radius*self.radius*self.pi\n",
    "    def getCircumference(self):\n",
    "        return self.radius*self.pi*2\n",
    "    \n",
    "\n",
    "my_circle=Circle(5)\n",
    "print(my_circle.getArea())\n",
    "print(my_circle.getCircumference())\n",
    "\n"
   ]
  }
 ],
 "metadata": {
  "kernelspec": {
   "display_name": "Python 3",
   "language": "python",
   "name": "python3"
  },
  "language_info": {
   "codemirror_mode": {
    "name": "ipython",
    "version": 3
   },
   "file_extension": ".py",
   "mimetype": "text/x-python",
   "name": "python",
   "nbconvert_exporter": "python",
   "pygments_lexer": "ipython3",
   "version": "3.10.6"
  },
  "orig_nbformat": 4
 },
 "nbformat": 4,
 "nbformat_minor": 2
}
