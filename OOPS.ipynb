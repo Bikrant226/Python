{
 "cells": [
  {
   "cell_type": "code",
   "execution_count": 1,
   "metadata": {},
   "outputs": [
    {
     "name": "stdout",
     "output_type": "stream",
     "text": [
      "Bikrant\n"
     ]
    }
   ],
   "source": [
    "class Employee:\n",
    "    def __init__(self,empId,empName):\n",
    "        self.empId=empId\n",
    "        self.empName=empName\n",
    "    \n",
    "    #funcion that is defined inside a class is called a method\n",
    "    def display(self):\n",
    "        print(self.empName)\n",
    "emp=Employee(24,\"Bikrant\")\n",
    "emp.display()"
   ]
  },
  {
   "cell_type": "code",
   "execution_count": 5,
   "metadata": {},
   "outputs": [
    {
     "name": "stdout",
     "output_type": "stream",
     "text": [
      "78.5\n",
      "31.400000000000002\n"
     ]
    }
   ],
   "source": [
    "#Objects attributes and methods\n",
    "class Circle:\n",
    "    #object attribute\n",
    "    pi=3.14\n",
    "\n",
    "    def __init__(self,radius):\n",
    "        self.radius=radius\n",
    "    def getArea(self):\n",
    "        return self.radius*self.radius*self.pi\n",
    "    def getCircumference(self):\n",
    "        return self.radius*self.pi*2\n",
    "    \n",
    "\n",
    "my_circle=Circle(5)\n",
    "print(my_circle.getArea())\n",
    "print(my_circle.getCircumference())\n",
    "\n"
   ]
  },
  {
   "cell_type": "code",
   "execution_count": 5,
   "metadata": {},
   "outputs": [
    {
     "name": "stdout",
     "output_type": "stream",
     "text": [
      "Hello,I am Bikrant and my id is 52663\n"
     ]
    }
   ],
   "source": [
    "#INHERITANCE\n",
    "\n",
    "#BaseClass\n",
    "class Person:\n",
    "    def __init__(self,name,id):\n",
    "        self.id=id\n",
    "        self.name=name\n",
    "    \n",
    "    def sayHello(self):\n",
    "        print(f'Hello,I am {self.name} and my id is {self.id}')\n",
    "\n",
    "class Student(Person):\n",
    "    def doNothing():\n",
    "        pass\n",
    "\n",
    "student1=Student(\"Bikrant\",52663)\n",
    "student1.sayHello()"
   ]
  },
  {
   "cell_type": "code",
   "execution_count": 21,
   "metadata": {},
   "outputs": [
    {
     "name": "stdout",
     "output_type": "stream",
     "text": [
      "Daisy barks!!\n",
      "Mille meows!!\n"
     ]
    }
   ],
   "source": [
    "#POLYMORPHISM\n",
    "class Animal:\n",
    "\n",
    "    def __init__(self,name):\n",
    "        self.name=name\n",
    "\n",
    "    #abstract method which must be implemented by child class\n",
    "    def speaks(self):\n",
    "        raise NotImplementedError(\"Child class must implement this abstract method\")\n",
    "\n",
    "class Dog(Animal):\n",
    "   \n",
    "    def speaks(self):\n",
    "        print(f\"{self.name} barks!!\")\n",
    "\n",
    "class Cat(Animal):\n",
    "   \n",
    "    def speaks(self):\n",
    "        print(f\"{self.name} meows!!\")\n",
    "\n",
    "daisy=Dog(\"Daisy\")\n",
    "mille=Cat(\"Mille\")\n",
    "\n",
    "daisy.speaks()\n",
    "mille.speaks()"
   ]
  },
  {
   "cell_type": "code",
   "execution_count": 29,
   "metadata": {},
   "outputs": [
    {
     "data": {
      "text/plain": [
       "2250"
      ]
     },
     "execution_count": 29,
     "metadata": {},
     "output_type": "execute_result"
    }
   ],
   "source": [
    "#MAGIC/DUNDER methods\n",
    "class Book:\n",
    "\n",
    "    def __init__(self,title,author,pages):\n",
    "        self.title=title\n",
    "        self.author=author\n",
    "        self.pages=pages\n",
    "\n",
    "    #magic method\n",
    "    def __str__(self):\n",
    "        return f\"{self.title} by {self.author}\"\n",
    "    \n",
    "    def __len__(self):\n",
    "        return self.pages\n",
    "b=Book(\"Harry Potter\",\"JK Rowling\",2250)\n",
    "\n",
    "str(b)\n",
    "\n",
    "len(b)"
   ]
  }
 ],
 "metadata": {
  "kernelspec": {
   "display_name": "Python 3",
   "language": "python",
   "name": "python3"
  },
  "language_info": {
   "codemirror_mode": {
    "name": "ipython",
    "version": 3
   },
   "file_extension": ".py",
   "mimetype": "text/x-python",
   "name": "python",
   "nbconvert_exporter": "python",
   "pygments_lexer": "ipython3",
   "version": "3.10.6"
  },
  "orig_nbformat": 4,
  "vscode": {
   "interpreter": {
    "hash": "916dbcbb3f70747c44a77c7bcd40155683ae19c65e1c03b4aa3499c5328201f1"
   }
  }
 },
 "nbformat": 4,
 "nbformat_minor": 2
}
